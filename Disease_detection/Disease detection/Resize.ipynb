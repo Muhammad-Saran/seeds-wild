{
 "cells": [
  {
   "cell_type": "code",
   "execution_count": 51,
   "id": "7370d617-46d6-4885-84b0-32ea8bebbde3",
   "metadata": {},
   "outputs": [
    {
     "name": "stdout",
     "output_type": "stream",
     "text": [
      "Resized and saved: data/Test/Verticillium wilt\\20240109_124636_result_700_700.jpg\n",
      "Resized and saved: data/Test/Verticillium wilt\\20240109_124636_result_700_700_0_1129.png\n",
      "Resized and saved: data/Test/Verticillium wilt\\20240109_124636_result_700_700_0_1290_0_2327_0_8302.png\n",
      "Resized and saved: data/Test/Verticillium wilt\\20240109_124636_result_700_700_0_1290_0_5658_0_5915.png\n",
      "Resized and saved: data/Test/Verticillium wilt\\20240109_124636_result_700_700_0_1290_0_6404_0_579_0_9022.png\n",
      "Resized and saved: data/Test/Verticillium wilt\\20240109_124636_result_700_700_0_1290_0_7000_0_6244.png\n",
      "Resized and saved: data/Test/Verticillium wilt\\20240109_124636_result_700_700_0_1512_0_1030_0_2322_0_8472.png\n",
      "Resized and saved: data/Test/Verticillium wilt\\20240109_124636_result_700_700_0_1512_0_7280_0_440.png\n",
      "Resized and saved: data/Test/Verticillium wilt\\20240109_124636_result_700_700_0_1512_0_8324.png\n",
      "Resized and saved: data/Test/Verticillium wilt\\20240109_124636_result_700_700_0_1512_0_8324_0_3513.png\n",
      "Resized and saved: data/Test/Verticillium wilt\\20240109_124636_result_700_700_0_2039_0_1188.png\n",
      "Resized and saved: data/Test/Verticillium wilt\\20240109_124636_result_700_700_0_2039_0_2332_0_6329.png\n",
      "Resized and saved: data/Test/Verticillium wilt\\20240109_124636_result_700_700_0_2039_0_248_0_2100_0_6578.png\n",
      "Resized and saved: data/Test/Verticillium wilt\\20240109_124636_result_700_700_0_2039_0_4847_0_3763.png\n",
      "Resized and saved: data/Test/Verticillium wilt\\20240109_124636_result_700_700_0_2188_0_5044_0_7552.png\n",
      "Resized and saved: data/Test/Verticillium wilt\\20240109_124636_result_700_700_0_2188_0_521_0_3552.png\n",
      "Resized and saved: data/Test/Verticillium wilt\\20240109_124636_result_700_700_0_2188_0_8453_0_4098_0_5862.png\n",
      "Resized and saved: data/Test/Verticillium wilt\\20240109_124636_result_700_700_0_2188_0_9639_0_2478_0_2131.png\n",
      "Resized and saved: data/Test/Verticillium wilt\\20240109_124636_result_700_700_0_2188_0_9999_0_5061.png\n",
      "Resized and saved: data/Test/Verticillium wilt\\20240109_124636_result_700_700_0_2321_0_7320_0_9519.png\n",
      "Resized and saved: data/Test/Verticillium wilt\\20240109_124636_result_700_700_0_33_0_5039_0_1747.png\n",
      "Resized and saved: data/Test/Verticillium wilt\\20240109_124636_result_700_700_0_33_0_5332_0_708.png\n",
      "Resized and saved: data/Test/Verticillium wilt\\20240109_124636_result_700_700_0_33_0_8296.png\n",
      "Resized and saved: data/Test/Verticillium wilt\\20240109_124636_result_700_700_0_33_0_8503_0_5751.png\n",
      "Resized and saved: data/Test/Verticillium wilt\\20240109_124636_result_700_700_0_3525_0_1554_0_7407_0_6582.png\n",
      "Resized and saved: data/Test/Verticillium wilt\\20240109_124636_result_700_700_0_3525_0_665_0_5548.png\n",
      "Resized and saved: data/Test/Verticillium wilt\\20240109_124636_result_700_700_0_3525_0_8160_0_6029.png\n",
      "Resized and saved: data/Test/Verticillium wilt\\20240109_124636_result_700_700_0_3525_0_9168_0_2832_0_9223.png\n",
      "Resized and saved: data/Test/Verticillium wilt\\20240109_124636_result_700_700_0_4794.png\n",
      "Resized and saved: data/Test/Verticillium wilt\\20240109_124636_result_700_700_0_4794_0_9624.png\n",
      "Resized and saved: data/Test/Verticillium wilt\\20240109_124636_result_700_700_0_7837_0_4476_0_9935.png\n",
      "Resized and saved: data/Test/Verticillium wilt\\20240109_124636_result_700_700_0_7837_0_7713_0_3017.png\n",
      "Resized and saved: data/Test/Verticillium wilt\\20240109_124636_result_700_700_0_7837_0_8078_0_8519.png\n",
      "Resized and saved: data/Test/Verticillium wilt\\20240109_124636_result_700_700_0_7837_0_8492_0_1787.png\n",
      "Resized and saved: data/Test/Verticillium wilt\\20240109_124636_result_700_700_0_80_0_7211.png\n",
      "Resized and saved: data/Test/Verticillium wilt\\20240109_124636_result_700_700_0_8619_0_3589_0_4600.png\n",
      "Resized and saved: data/Test/Verticillium wilt\\20240109_124636_result_700_700_0_8619_0_3890_0_1273.png\n",
      "Resized and saved: data/Test/Verticillium wilt\\20240109_124636_result_700_700_0_8619_0_458_0_4797_0_1325.png\n",
      "Resized and saved: data/Test/Verticillium wilt\\20240109_124636_result_700_700_0_8619_0_9815_0_3482.png\n",
      "Resized and saved: data/Test/Verticillium wilt\\20240109_124636_result_700_700_0_8933_0_3301_0_2146_0_3095.png\n",
      "Resized and saved: data/Test/Verticillium wilt\\20240109_124636_result_700_700_0_8933_0_5621_0_804.png\n",
      "Resized and saved: data/Test/Verticillium wilt\\20240109_124636_result_700_700_0_8933_0_5667.png\n",
      "Resized and saved: data/Test/Verticillium wilt\\20240109_124636_result_700_700_0_8933_0_6703_0_7140_0_7200.png\n",
      "Resized and saved: data/Test/Verticillium wilt\\20240109_124636_result_700_700_0_971_0_2792_0_8565.png\n",
      "Resized and saved: data/Test/Verticillium wilt\\20240109_124636_result_700_700_0_971_0_519_0_7341.png\n",
      "Resized and saved: data/Test/Verticillium wilt\\20240109_124636_result_700_700_0_971_0_7436_0_3701.png\n",
      "Resized and saved: data/Test/Verticillium wilt\\20240109_124636_result_700_700_0_971_0_8268_0_4842_0_3415.png\n",
      "Resized and saved: data/Test/Verticillium wilt\\20240109_124639_result_700_700_0_1802_0_1420_0_5887.png\n",
      "Resized and saved: data/Test/Verticillium wilt\\20240109_124639_result_700_700_0_1802_0_2021_0_2126.png\n",
      "Resized and saved: data/Test/Verticillium wilt\\20240109_124639_result_700_700_0_1802_0_5251_0_5377.png\n",
      "Resized and saved: data/Test/Verticillium wilt\\20240109_124639_result_700_700_0_1802_0_5429_0_8808_0_3383.png\n",
      "Resized and saved: data/Test/Verticillium wilt\\20240109_124639_result_700_700_0_458.png\n",
      "Resized and saved: data/Test/Verticillium wilt\\20240109_124639_result_700_700_0_4646.png\n",
      "Resized and saved: data/Test/Verticillium wilt\\20240109_124639_result_700_700_0_5816_0_8961.png\n",
      "Resized and saved: data/Test/Verticillium wilt\\20240109_124639_result_700_700_0_9446_0_5065.png\n",
      "Resized and saved: data/Test/Verticillium wilt\\20240109_124644_result_700_700.jpg\n",
      "Resized and saved: data/Test/Verticillium wilt\\20240109_124651_result_700_700_0_4305.png\n",
      "Resized and saved: data/Test/Verticillium wilt\\20240109_124853_result_700_700_0_3990.png\n",
      "Resized and saved: data/Test/Verticillium wilt\\20240109_124902_result_700_700_0_933.png\n",
      "Resized and saved: data/Test/Verticillium wilt\\20240109_124911_result_700_700.jpg\n",
      "Resized and saved: data/Test/Verticillium wilt\\20240109_124922_result_700_700_0_6457.png\n",
      "Resized and saved: data/Test/Verticillium wilt\\20240109_124949_result_700_700.jpg\n",
      "Resized and saved: data/Test/Verticillium wilt\\20240109_125048_result_700_700.jpg\n",
      "Resized and saved: data/Test/Verticillium wilt\\20240109_125628_result_700_700.jpg\n",
      "Resized and saved: data/Test/Verticillium wilt\\20240109_125719_result_700_700.jpg\n",
      "Resized and saved: data/Test/Verticillium wilt\\20240109_125850_result_700_700.jpg\n",
      "Resized and saved: data/Test/Verticillium wilt\\20240109_125936_result_700_700.jpg\n",
      "Resized and saved: data/Test/Verticillium wilt\\20240109_130008_result_700_700.jpg\n",
      "Resized and saved: data/Test/Verticillium wilt\\20240109_130043_result_700_700.jpg\n",
      "Resized and saved: data/Test/Verticillium wilt\\20240109_130133_result_700_700.jpg\n",
      "Resized and saved: data/Test/Verticillium wilt\\20240109_130254_result_700_700.jpg\n",
      "Resized and saved: data/Test/Verticillium wilt\\20240109_130335_result_700_700.jpg\n",
      "Resized and saved: data/Test/Verticillium wilt\\20240109_130427_result_700_700.jpg\n",
      "Resized and saved: data/Test/Verticillium wilt\\20240109_130527_result_700_700.jpg\n",
      "Resized and saved: data/Test/Verticillium wilt\\20240109_130831_result_700_700.jpg\n",
      "Resized and saved: data/Test/Verticillium wilt\\20240109_130855_result_700_700.jpg\n"
     ]
    }
   ],
   "source": [
    "import os\n",
    "from PIL import Image\n",
    "\n",
    "def resize_images(input_dir, output_dir, size=(256, 256)):\n",
    "    if not os.path.exists(output_dir):\n",
    "        os.makedirs(output_dir)\n",
    "\n",
    "    for filename in os.listdir(input_dir):\n",
    "        if filename.endswith((\".jpg\", \".jpeg\", \".png\", \".bmp\", \".tiff\")):  # You can add more formats if needed\n",
    "            img_path = os.path.join(input_dir, filename)\n",
    "            try:\n",
    "                # Open the image\n",
    "                with Image.open(img_path) as img:\n",
    "                    # Resize the image\n",
    "                    img_resized = img.resize(size)\n",
    "                    \n",
    "                    # Save the resized image in the output directory\n",
    "                    output_path = os.path.join(output_dir, filename)\n",
    "                    img_resized.save(output_path)\n",
    "                    \n",
    "                    print(f\"Resized and saved: {output_path}\")\n",
    "            except Exception as e:\n",
    "                print(f\"Error processing {filename}: {e}\")\n",
    "\n",
    "# Example usage\n",
    "input_directory =r\"data/Test/Verticillium wilt\"\n",
    "output_directory =r\"data/Test/Verticillium wilt\"\n",
    "resize_images(input_directory, output_directory)\n"
   ]
  },
  {
   "cell_type": "markdown",
   "id": "e194fe28-407b-4dc3-88a9-9f48afd7744f",
   "metadata": {},
   "source": [
    "import os\n",
    "import random\n",
    "import shutil\n",
    "\n",
    "def copy_random_images(src_folder, dest_folder, num_images=5000):\n",
    "    # Create destination folder if it doesn't exist\n",
    "    if not os.path.exists(dest_folder):\n",
    "        os.makedirs(dest_folder)\n",
    "    \n",
    "    # Get a list of all files in the source folder\n",
    "    all_files = [f for f in os.listdir(src_folder) if f.endswith(('.jpg', '.jpeg', '.png', '.bmp', '.tiff'))]\n",
    "    \n",
    "    # Check if there are enough images in the source folder\n",
    "    if len(all_files) < num_images:\n",
    "        print(f\"Not enough images in the source folder. Found {len(all_files)} images.\")\n",
    "        return\n",
    "    \n",
    "    # Randomly select 'num_images' files\n",
    "    selected_files = random.sample(all_files, num_images)\n",
    "    \n",
    "    # Copy each selected image to the destination folder\n",
    "    for file in selected_files:\n",
    "        src_path = os.path.join(src_folder, file)\n",
    "        dest_path = os.path.join(dest_folder, file)\n",
    "        shutil.copy(src_path, dest_path)\n",
    "    \n",
    "    print(f\"{num_images} images copied to {dest_folder}\")\n",
    "\n",
    "# Example usage:\n",
    "src_folder = r\"D:/Projects/disease Detection/Healthy Detection/Train/Diseasede\"  # Replace with the path to your source folder\n",
    "dest_folder = r\"D:/Projects/disease Detection/Healthy Detection/Train/Diseasedy\"  # Replace with the path to the destination folder\n",
    "copy_random_images(src_folder, dest_folder, num_images=5000)\n"
   ]
  },
  {
   "cell_type": "code",
   "execution_count": 52,
   "id": "c0d172d8-e84b-4cd4-bc7b-52bf2d521df0",
   "metadata": {},
   "outputs": [
    {
     "name": "stdout",
     "output_type": "stream",
     "text": [
      "Note: you may need to restart the kernel to use updated packages.\n"
     ]
    },
    {
     "name": "stderr",
     "output_type": "stream",
     "text": [
      "ERROR: Could not find a version that satisfies the requirement tensorflow-addons (from versions: none)\n",
      "ERROR: No matching distribution found for tensorflow-addons\n"
     ]
    }
   ],
   "source": [
    "pip install tensorflow-addons\n"
   ]
  },
  {
   "cell_type": "code",
   "execution_count": null,
   "id": "f208e284-0cb7-415e-bdc8-c5a480a069fe",
   "metadata": {},
   "outputs": [],
   "source": []
  }
 ],
 "metadata": {
  "kernelspec": {
   "display_name": "Python 3 (ipykernel)",
   "language": "python",
   "name": "python3"
  },
  "language_info": {
   "codemirror_mode": {
    "name": "ipython",
    "version": 3
   },
   "file_extension": ".py",
   "mimetype": "text/x-python",
   "name": "python",
   "nbconvert_exporter": "python",
   "pygments_lexer": "ipython3",
   "version": "3.12.7"
  }
 },
 "nbformat": 4,
 "nbformat_minor": 5
}
