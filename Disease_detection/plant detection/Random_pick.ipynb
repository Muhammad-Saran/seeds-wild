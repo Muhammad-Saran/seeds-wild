{
 "cells": [
  {
   "cell_type": "code",
   "execution_count": 8,
   "id": "8e2720e4-c4c7-4c5a-8b60-199aac60edc0",
   "metadata": {},
   "outputs": [
    {
     "name": "stdout",
     "output_type": "stream",
     "text": [
      "25,000 images have been successfully moved to: Augmented/Train/Leaf4\n"
     ]
    }
   ],
   "source": [
    "import os\n",
    "import random\n",
    "import shutil\n",
    "\n",
    "# Define source and destination directories\n",
    "source_folder = 'Augmented/Train/Leaf2'\n",
    "destination_folder = 'Augmented/Train/Leaf4'\n",
    "\n",
    "# Create destination directory if it doesn't exist\n",
    "os.makedirs(destination_folder, exist_ok=True)\n",
    "\n",
    "# Get all images from the source directory\n",
    "all_images = os.listdir(source_folder)\n",
    "\n",
    "# Select 25,000 random images to remove from the source directory\n",
    "selected_images = random.sample(all_images, 12500)\n",
    "\n",
    "# Move each selected image to the destination directory\n",
    "for image_name in selected_images:\n",
    "    src_path = os.path.join(source_folder, image_name)\n",
    "    dst_path = os.path.join(destination_folder, image_name)\n",
    "    shutil.move(src_path, dst_path)  # Use move instead of copy\n",
    "\n",
    "print(\"25,000 images have been successfully moved to:\", destination_folder)\n"
   ]
  },
  {
   "cell_type": "code",
   "execution_count": null,
   "id": "ab59a08b-506a-4f5e-96fe-8242fe42c1bf",
   "metadata": {},
   "outputs": [],
   "source": []
  }
 ],
 "metadata": {
  "kernelspec": {
   "display_name": "Python 3 (ipykernel)",
   "language": "python",
   "name": "python3"
  },
  "language_info": {
   "codemirror_mode": {
    "name": "ipython",
    "version": 3
   },
   "file_extension": ".py",
   "mimetype": "text/x-python",
   "name": "python",
   "nbconvert_exporter": "python",
   "pygments_lexer": "ipython3",
   "version": "3.12.7"
  }
 },
 "nbformat": 4,
 "nbformat_minor": 5
}
