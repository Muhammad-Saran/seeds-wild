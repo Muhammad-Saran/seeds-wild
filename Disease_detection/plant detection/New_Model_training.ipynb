{
 "cells": [
  {
   "cell_type": "code",
   "execution_count": 1,
   "id": "f5fb4cbe-cfbf-4c2e-8c26-cabb30d647a3",
   "metadata": {},
   "outputs": [
    {
     "name": "stdout",
     "output_type": "stream",
     "text": [
      "Available GPU(s): [PhysicalDevice(name='/physical_device:GPU:0', device_type='GPU')]\n"
     ]
    }
   ],
   "source": [
    "import tensorflow as tf\n",
    "\n",
    "# Check if GPU is available\n",
    "gpus = tf.config.list_physical_devices('GPU')\n",
    "if gpus:\n",
    "    print(f\"Available GPU(s): {gpus}\")\n",
    "else:\n",
    "    print(\"No GPU found.\")\n"
   ]
  },
  {
   "cell_type": "code",
   "execution_count": 1,
   "id": "c37d1e60-7a90-4651-a141-cbccd6dbec88",
   "metadata": {},
   "outputs": [],
   "source": [
    "import tensorflow as tf\n",
    "from tensorflow.keras.metrics import Precision, Recall\n",
    "from tensorflow import keras\n",
    "from tensorflow.keras.models import Sequential\n",
    "from tensorflow.keras.callbacks import EarlyStopping, LearningRateScheduler\n",
    "from tensorflow.keras.layers import Conv2D, BatchNormalization, MaxPooling2D, Flatten, Dense, Dropout\n",
    "from tensorflow.keras.regularizers import l2\n",
    "from tensorflow.keras.optimizers import Adam\n",
    "import time\n",
    "import os\n",
    "import numpy as np\n",
    "from sklearn.metrics import f1_score\n",
    "import matplotlib.pyplot as plt"
   ]
  },
  {
   "cell_type": "code",
   "execution_count": 2,
   "id": "53918bdd-2e4c-4dbe-b710-780a2b865358",
   "metadata": {},
   "outputs": [],
   "source": [
    "def clean_directory(directory, extensions=['.jpg', '.jpeg', '.png']):\n",
    "    for root, _, files in os.walk(directory):\n",
    "        for file in files:\n",
    "            if not any(file.lower().endswith(ext) for ext in extensions):\n",
    "                os.remove(os.path.join(root, file))\n",
    "\n",
    "clean_directory('DATA/Train')\n",
    "clean_directory('DATA/Test')"
   ]
  },
  {
   "cell_type": "code",
   "execution_count": 3,
   "id": "a21e3da8-7726-43c7-ab39-a1ecf97d3a31",
   "metadata": {},
   "outputs": [],
   "source": [
    "ALLOWED_EXTENSIONS = {'.jpg', '.jpeg', '.png', '.bmp', '.gif'}\n",
    "\n",
    "def filter_images_only(directory):\n",
    "    for root, _, files in os.walk(directory):\n",
    "        for file in files:\n",
    "            if not any(file.lower().endswith(ext) for ext in ALLOWED_EXTENSIONS):\n",
    "                os.remove(os.path.join(root, file))\n",
    "                print(f\"Removed non-image file: {file}\")\n",
    "\n",
    "filter_images_only('DATA/Train')\n",
    "filter_images_only('DATA/Test')\n"
   ]
  },
  {
   "cell_type": "code",
   "execution_count": 4,
   "id": "1f1aea95-1865-432c-8706-6e8e80fd2efc",
   "metadata": {},
   "outputs": [
    {
     "name": "stdout",
     "output_type": "stream",
     "text": [
      "Training class counts: {'Leaf': 12791, 'Not_Leaf': 12960}\n",
      "Class weights: {0: 1.0066062074896411, 1: 0.993479938271605}\n"
     ]
    }
   ],
   "source": [
    "def count_images_in_class(directory):\n",
    "    class_counts = {}\n",
    "    for class_dir in os.listdir(directory):\n",
    "        class_path = os.path.join(directory, class_dir)\n",
    "        if os.path.isdir(class_path):\n",
    "            num_images = len([f for f in os.listdir(class_path) if any(f.lower().endswith(ext) for ext in ALLOWED_EXTENSIONS)])\n",
    "            class_counts[class_dir] = num_images\n",
    "    return class_counts\n",
    "\n",
    "train_class_counts = count_images_in_class('DATA/Train')\n",
    "print(\"Training class counts:\", train_class_counts)\n",
    "\n",
    "total_images = sum(train_class_counts.values())\n",
    "class_weights = {i: total_images / (2 * count) for i, count in enumerate(train_class_counts.values())}\n",
    "print(\"Class weights:\", class_weights)"
   ]
  },
  {
   "cell_type": "code",
   "execution_count": 5,
   "id": "c20ed57b-c967-472d-aa94-7b472c41517d",
   "metadata": {},
   "outputs": [
    {
     "ename": "UnicodeDecodeError",
     "evalue": "'utf-8' codec can't decode byte 0x91 in position 67: invalid start byte",
     "output_type": "error",
     "traceback": [
      "\u001b[1;31m---------------------------------------------------------------------------\u001b[0m",
      "\u001b[1;31mUnicodeDecodeError\u001b[0m                        Traceback (most recent call last)",
      "Cell \u001b[1;32mIn[5], line 1\u001b[0m\n\u001b[1;32m----> 1\u001b[0m train_ds \u001b[38;5;241m=\u001b[39m keras\u001b[38;5;241m.\u001b[39mutils\u001b[38;5;241m.\u001b[39mimage_dataset_from_directory(\n\u001b[0;32m      2\u001b[0m     directory\u001b[38;5;241m=\u001b[39m\u001b[38;5;124m'\u001b[39m\u001b[38;5;124mDATA/Train\u001b[39m\u001b[38;5;124m'\u001b[39m,\n\u001b[0;32m      3\u001b[0m     labels\u001b[38;5;241m=\u001b[39m\u001b[38;5;124m'\u001b[39m\u001b[38;5;124minferred\u001b[39m\u001b[38;5;124m'\u001b[39m,\n\u001b[0;32m      4\u001b[0m     label_mode\u001b[38;5;241m=\u001b[39m\u001b[38;5;124m'\u001b[39m\u001b[38;5;124mbinary\u001b[39m\u001b[38;5;124m'\u001b[39m,\n\u001b[0;32m      5\u001b[0m     batch_size\u001b[38;5;241m=\u001b[39m\u001b[38;5;241m32\u001b[39m,\n\u001b[0;32m      6\u001b[0m     image_size\u001b[38;5;241m=\u001b[39m(\u001b[38;5;241m256\u001b[39m, \u001b[38;5;241m256\u001b[39m)\n\u001b[0;32m      7\u001b[0m )\n\u001b[0;32m      8\u001b[0m validation_ds \u001b[38;5;241m=\u001b[39m keras\u001b[38;5;241m.\u001b[39mutils\u001b[38;5;241m.\u001b[39mimage_dataset_from_directory(\n\u001b[0;32m      9\u001b[0m     directory\u001b[38;5;241m=\u001b[39m\u001b[38;5;124m'\u001b[39m\u001b[38;5;124mDATA/Test\u001b[39m\u001b[38;5;124m'\u001b[39m,\n\u001b[0;32m     10\u001b[0m     labels\u001b[38;5;241m=\u001b[39m\u001b[38;5;124m'\u001b[39m\u001b[38;5;124minferred\u001b[39m\u001b[38;5;124m'\u001b[39m,\n\u001b[1;32m   (...)\u001b[0m\n\u001b[0;32m     13\u001b[0m     image_size\u001b[38;5;241m=\u001b[39m(\u001b[38;5;241m256\u001b[39m, \u001b[38;5;241m256\u001b[39m)\n\u001b[0;32m     14\u001b[0m )\n",
      "File \u001b[1;32m~\\anaconda3\\envs\\myenv\\Lib\\site-packages\\keras\\src\\utils\\image_dataset_utils.py:232\u001b[0m, in \u001b[0;36mimage_dataset_from_directory\u001b[1;34m(directory, labels, label_mode, class_names, color_mode, batch_size, image_size, shuffle, seed, validation_split, subset, interpolation, follow_links, crop_to_aspect_ratio, pad_to_aspect_ratio, data_format, verbose)\u001b[0m\n\u001b[0;32m    230\u001b[0m \u001b[38;5;28;01mif\u001b[39;00m seed \u001b[38;5;129;01mis\u001b[39;00m \u001b[38;5;28;01mNone\u001b[39;00m:\n\u001b[0;32m    231\u001b[0m     seed \u001b[38;5;241m=\u001b[39m np\u001b[38;5;241m.\u001b[39mrandom\u001b[38;5;241m.\u001b[39mrandint(\u001b[38;5;241m1e6\u001b[39m)\n\u001b[1;32m--> 232\u001b[0m image_paths, labels, class_names \u001b[38;5;241m=\u001b[39m dataset_utils\u001b[38;5;241m.\u001b[39mindex_directory(\n\u001b[0;32m    233\u001b[0m     directory,\n\u001b[0;32m    234\u001b[0m     labels,\n\u001b[0;32m    235\u001b[0m     formats\u001b[38;5;241m=\u001b[39mALLOWLIST_FORMATS,\n\u001b[0;32m    236\u001b[0m     class_names\u001b[38;5;241m=\u001b[39mclass_names,\n\u001b[0;32m    237\u001b[0m     shuffle\u001b[38;5;241m=\u001b[39mshuffle,\n\u001b[0;32m    238\u001b[0m     seed\u001b[38;5;241m=\u001b[39mseed,\n\u001b[0;32m    239\u001b[0m     follow_links\u001b[38;5;241m=\u001b[39mfollow_links,\n\u001b[0;32m    240\u001b[0m     verbose\u001b[38;5;241m=\u001b[39mverbose,\n\u001b[0;32m    241\u001b[0m )\n\u001b[0;32m    243\u001b[0m \u001b[38;5;28;01mif\u001b[39;00m label_mode \u001b[38;5;241m==\u001b[39m \u001b[38;5;124m\"\u001b[39m\u001b[38;5;124mbinary\u001b[39m\u001b[38;5;124m\"\u001b[39m \u001b[38;5;129;01mand\u001b[39;00m \u001b[38;5;28mlen\u001b[39m(class_names) \u001b[38;5;241m!=\u001b[39m \u001b[38;5;241m2\u001b[39m:\n\u001b[0;32m    244\u001b[0m     \u001b[38;5;28;01mraise\u001b[39;00m \u001b[38;5;167;01mValueError\u001b[39;00m(\n\u001b[0;32m    245\u001b[0m         \u001b[38;5;124m'\u001b[39m\u001b[38;5;124mWhen passing `label_mode=\u001b[39m\u001b[38;5;124m\"\u001b[39m\u001b[38;5;124mbinary\u001b[39m\u001b[38;5;124m\"\u001b[39m\u001b[38;5;124m`, there must be exactly 2 \u001b[39m\u001b[38;5;124m'\u001b[39m\n\u001b[0;32m    246\u001b[0m         \u001b[38;5;124mf\u001b[39m\u001b[38;5;124m\"\u001b[39m\u001b[38;5;124mclass_names. Received: class_names=\u001b[39m\u001b[38;5;132;01m{\u001b[39;00mclass_names\u001b[38;5;132;01m}\u001b[39;00m\u001b[38;5;124m\"\u001b[39m\n\u001b[0;32m    247\u001b[0m     )\n",
      "File \u001b[1;32m~\\anaconda3\\envs\\myenv\\Lib\\site-packages\\keras\\src\\utils\\dataset_utils.py:578\u001b[0m, in \u001b[0;36mindex_directory\u001b[1;34m(directory, labels, formats, class_names, shuffle, seed, follow_links, verbose)\u001b[0m\n\u001b[0;32m    576\u001b[0m labels_list \u001b[38;5;241m=\u001b[39m []\n\u001b[0;32m    577\u001b[0m \u001b[38;5;28;01mfor\u001b[39;00m res \u001b[38;5;129;01min\u001b[39;00m results:\n\u001b[1;32m--> 578\u001b[0m     partial_filenames, partial_labels \u001b[38;5;241m=\u001b[39m res\u001b[38;5;241m.\u001b[39mget()\n\u001b[0;32m    579\u001b[0m     labels_list\u001b[38;5;241m.\u001b[39mappend(partial_labels)\n\u001b[0;32m    580\u001b[0m     filenames \u001b[38;5;241m+\u001b[39m\u001b[38;5;241m=\u001b[39m partial_filenames\n",
      "File \u001b[1;32m~\\anaconda3\\envs\\myenv\\Lib\\multiprocessing\\pool.py:774\u001b[0m, in \u001b[0;36mApplyResult.get\u001b[1;34m(self, timeout)\u001b[0m\n\u001b[0;32m    772\u001b[0m     \u001b[38;5;28;01mreturn\u001b[39;00m \u001b[38;5;28mself\u001b[39m\u001b[38;5;241m.\u001b[39m_value\n\u001b[0;32m    773\u001b[0m \u001b[38;5;28;01melse\u001b[39;00m:\n\u001b[1;32m--> 774\u001b[0m     \u001b[38;5;28;01mraise\u001b[39;00m \u001b[38;5;28mself\u001b[39m\u001b[38;5;241m.\u001b[39m_value\n",
      "File \u001b[1;32m~\\anaconda3\\envs\\myenv\\Lib\\multiprocessing\\pool.py:125\u001b[0m, in \u001b[0;36mworker\u001b[1;34m(inqueue, outqueue, initializer, initargs, maxtasks, wrap_exception)\u001b[0m\n\u001b[0;32m    123\u001b[0m job, i, func, args, kwds \u001b[38;5;241m=\u001b[39m task\n\u001b[0;32m    124\u001b[0m \u001b[38;5;28;01mtry\u001b[39;00m:\n\u001b[1;32m--> 125\u001b[0m     result \u001b[38;5;241m=\u001b[39m (\u001b[38;5;28;01mTrue\u001b[39;00m, func(\u001b[38;5;241m*\u001b[39margs, \u001b[38;5;241m*\u001b[39m\u001b[38;5;241m*\u001b[39mkwds))\n\u001b[0;32m    126\u001b[0m \u001b[38;5;28;01mexcept\u001b[39;00m \u001b[38;5;167;01mException\u001b[39;00m \u001b[38;5;28;01mas\u001b[39;00m e:\n\u001b[0;32m    127\u001b[0m     \u001b[38;5;28;01mif\u001b[39;00m wrap_exception \u001b[38;5;129;01mand\u001b[39;00m func \u001b[38;5;129;01mis\u001b[39;00m \u001b[38;5;129;01mnot\u001b[39;00m _helper_reraises_exception:\n",
      "File \u001b[1;32m~\\anaconda3\\envs\\myenv\\Lib\\site-packages\\keras\\src\\utils\\dataset_utils.py:655\u001b[0m, in \u001b[0;36mindex_subdirectory\u001b[1;34m(directory, class_indices, follow_links, formats)\u001b[0m\n\u001b[0;32m    653\u001b[0m labels \u001b[38;5;241m=\u001b[39m []\n\u001b[0;32m    654\u001b[0m filenames \u001b[38;5;241m=\u001b[39m []\n\u001b[1;32m--> 655\u001b[0m \u001b[38;5;28;01mfor\u001b[39;00m root, fname \u001b[38;5;129;01min\u001b[39;00m valid_files:\n\u001b[0;32m    656\u001b[0m     labels\u001b[38;5;241m.\u001b[39mappend(class_indices[dirname])\n\u001b[0;32m    657\u001b[0m     absolute_path \u001b[38;5;241m=\u001b[39m tf\u001b[38;5;241m.\u001b[39mio\u001b[38;5;241m.\u001b[39mgfile\u001b[38;5;241m.\u001b[39mjoin(root, fname)\n",
      "File \u001b[1;32m~\\anaconda3\\envs\\myenv\\Lib\\site-packages\\keras\\src\\utils\\dataset_utils.py:630\u001b[0m, in \u001b[0;36miter_valid_files\u001b[1;34m(directory, follow_links, formats)\u001b[0m\n\u001b[0;32m    628\u001b[0m \u001b[38;5;28;01melse\u001b[39;00m:\n\u001b[0;32m    629\u001b[0m     walk \u001b[38;5;241m=\u001b[39m os\u001b[38;5;241m.\u001b[39mwalk(directory, followlinks\u001b[38;5;241m=\u001b[39mfollow_links)\n\u001b[1;32m--> 630\u001b[0m \u001b[38;5;28;01mfor\u001b[39;00m root, _, files \u001b[38;5;129;01min\u001b[39;00m \u001b[38;5;28msorted\u001b[39m(walk, key\u001b[38;5;241m=\u001b[39m\u001b[38;5;28;01mlambda\u001b[39;00m x: x[\u001b[38;5;241m0\u001b[39m]):\n\u001b[0;32m    631\u001b[0m     \u001b[38;5;28;01mfor\u001b[39;00m fname \u001b[38;5;129;01min\u001b[39;00m \u001b[38;5;28msorted\u001b[39m(files):\n\u001b[0;32m    632\u001b[0m         \u001b[38;5;28;01mif\u001b[39;00m fname\u001b[38;5;241m.\u001b[39mlower()\u001b[38;5;241m.\u001b[39mendswith(formats):\n",
      "File \u001b[1;32m~\\anaconda3\\envs\\myenv\\Lib\\site-packages\\tensorflow\\python\\lib\\io\\file_io.py:876\u001b[0m, in \u001b[0;36mwalk_v2\u001b[1;34m(top, topdown, onerror)\u001b[0m\n\u001b[0;32m    874\u001b[0m \u001b[38;5;28;01mfor\u001b[39;00m item \u001b[38;5;129;01min\u001b[39;00m listing:\n\u001b[0;32m    875\u001b[0m   full_path \u001b[38;5;241m=\u001b[39m _make_full_path(top, item)\n\u001b[1;32m--> 876\u001b[0m   \u001b[38;5;28;01mif\u001b[39;00m is_directory(full_path):\n\u001b[0;32m    877\u001b[0m     subdirs\u001b[38;5;241m.\u001b[39mappend(item)\n\u001b[0;32m    878\u001b[0m   \u001b[38;5;28;01melse\u001b[39;00m:\n",
      "File \u001b[1;32m~\\anaconda3\\envs\\myenv\\Lib\\site-packages\\tensorflow\\python\\lib\\io\\file_io.py:689\u001b[0m, in \u001b[0;36mis_directory\u001b[1;34m(dirname)\u001b[0m\n\u001b[0;32m    679\u001b[0m \u001b[38;5;129m@tf_export\u001b[39m(v1\u001b[38;5;241m=\u001b[39m[\u001b[38;5;124m\"\u001b[39m\u001b[38;5;124mgfile.IsDirectory\u001b[39m\u001b[38;5;124m\"\u001b[39m])\n\u001b[0;32m    680\u001b[0m \u001b[38;5;28;01mdef\u001b[39;00m \u001b[38;5;21mis_directory\u001b[39m(dirname):\n\u001b[0;32m    681\u001b[0m \u001b[38;5;250m  \u001b[39m\u001b[38;5;124;03m\"\"\"Returns whether the path is a directory or not.\u001b[39;00m\n\u001b[0;32m    682\u001b[0m \n\u001b[0;32m    683\u001b[0m \u001b[38;5;124;03m  Args:\u001b[39;00m\n\u001b[1;32m   (...)\u001b[0m\n\u001b[0;32m    687\u001b[0m \u001b[38;5;124;03m    True, if the path is a directory; False otherwise\u001b[39;00m\n\u001b[0;32m    688\u001b[0m \u001b[38;5;124;03m  \"\"\"\u001b[39;00m\n\u001b[1;32m--> 689\u001b[0m   \u001b[38;5;28;01mreturn\u001b[39;00m is_directory_v2(dirname)\n",
      "File \u001b[1;32m~\\anaconda3\\envs\\myenv\\Lib\\site-packages\\tensorflow\\python\\lib\\io\\file_io.py:703\u001b[0m, in \u001b[0;36mis_directory_v2\u001b[1;34m(path)\u001b[0m\n\u001b[0;32m    694\u001b[0m \u001b[38;5;250m\u001b[39m\u001b[38;5;124;03m\"\"\"Returns whether the path is a directory or not.\u001b[39;00m\n\u001b[0;32m    695\u001b[0m \n\u001b[0;32m    696\u001b[0m \u001b[38;5;124;03mArgs:\u001b[39;00m\n\u001b[1;32m   (...)\u001b[0m\n\u001b[0;32m    700\u001b[0m \u001b[38;5;124;03m  True, if the path is a directory; False otherwise\u001b[39;00m\n\u001b[0;32m    701\u001b[0m \u001b[38;5;124;03m\"\"\"\u001b[39;00m\n\u001b[0;32m    702\u001b[0m \u001b[38;5;28;01mtry\u001b[39;00m:\n\u001b[1;32m--> 703\u001b[0m   \u001b[38;5;28;01mreturn\u001b[39;00m _pywrap_file_io\u001b[38;5;241m.\u001b[39mIsDirectory(compat\u001b[38;5;241m.\u001b[39mpath_to_bytes(path))\n\u001b[0;32m    704\u001b[0m \u001b[38;5;28;01mexcept\u001b[39;00m errors\u001b[38;5;241m.\u001b[39mOpError:\n\u001b[0;32m    705\u001b[0m   \u001b[38;5;28;01mreturn\u001b[39;00m \u001b[38;5;28;01mFalse\u001b[39;00m\n",
      "\u001b[1;31mUnicodeDecodeError\u001b[0m: 'utf-8' codec can't decode byte 0x91 in position 67: invalid start byte"
     ]
    }
   ],
   "source": [
    "train_ds = keras.utils.image_dataset_from_directory(\n",
    "    directory='DATA/Train',\n",
    "    labels='inferred',\n",
    "    label_mode='binary',\n",
    "    batch_size=32,\n",
    "    image_size=(256, 256)\n",
    ")\n",
    "validation_ds = keras.utils.image_dataset_from_directory(\n",
    "    directory='DATA/Test',\n",
    "    labels='inferred',\n",
    "    label_mode='binary',\n",
    "    batch_size=32,\n",
    "    image_size=(256, 256)\n",
    ")"
   ]
  },
  {
   "cell_type": "code",
   "execution_count": 7,
   "id": "e116fa0a-7faf-4eeb-b199-6cd2a2956106",
   "metadata": {},
   "outputs": [
    {
     "name": "stdout",
     "output_type": "stream",
     "text": [
      "WARNING:tensorflow:Using a while_loop for converting RngReadAndSkip cause there is no registered converter for this op.\n",
      "WARNING:tensorflow:Using a while_loop for converting Bitcast cause there is no registered converter for this op.\n",
      "WARNING:tensorflow:Using a while_loop for converting Bitcast cause there is no registered converter for this op.\n",
      "WARNING:tensorflow:Using a while_loop for converting StatelessRandomUniformV2 cause there is no registered converter for this op.\n",
      "WARNING:tensorflow:Using a while_loop for converting ImageProjectiveTransformV3 cause there is no registered converter for this op.\n",
      "WARNING:tensorflow:Using a while_loop for converting RngReadAndSkip cause there is no registered converter for this op.\n",
      "WARNING:tensorflow:Using a while_loop for converting Bitcast cause there is no registered converter for this op.\n",
      "WARNING:tensorflow:Using a while_loop for converting Bitcast cause there is no registered converter for this op.\n",
      "WARNING:tensorflow:Using a while_loop for converting StatelessRandomUniformV2 cause there is no registered converter for this op.\n",
      "WARNING:tensorflow:Using a while_loop for converting ImageProjectiveTransformV3 cause there is no registered converter for this op.\n",
      "WARNING:tensorflow:Using a while_loop for converting RngReadAndSkip cause there is no registered converter for this op.\n",
      "WARNING:tensorflow:Using a while_loop for converting Bitcast cause there is no registered converter for this op.\n",
      "WARNING:tensorflow:Using a while_loop for converting Bitcast cause there is no registered converter for this op.\n",
      "WARNING:tensorflow:Using a while_loop for converting StatelessRandomUniformV2 cause there is no registered converter for this op.\n",
      "WARNING:tensorflow:Using a while_loop for converting ImageProjectiveTransformV3 cause there is no registered converter for this op.\n",
      "WARNING:tensorflow:Using a while_loop for converting RngReadAndSkip cause there is no registered converter for this op.\n",
      "WARNING:tensorflow:Using a while_loop for converting Bitcast cause there is no registered converter for this op.\n",
      "WARNING:tensorflow:Using a while_loop for converting Bitcast cause there is no registered converter for this op.\n",
      "WARNING:tensorflow:Using a while_loop for converting StatelessRandomUniformV2 cause there is no registered converter for this op.\n",
      "WARNING:tensorflow:Using a while_loop for converting ImageProjectiveTransformV3 cause there is no registered converter for this op.\n"
     ]
    }
   ],
   "source": [
    "data_augmentation = tf.keras.Sequential([\n",
    "    tf.keras.layers.RandomFlip('horizontal'),\n",
    "    tf.keras.layers.RandomRotation(0.2),\n",
    "    tf.keras.layers.RandomZoom(0.2),\n",
    "])\n",
    "train_ds = train_ds.map(lambda x, y: (data_augmentation(x, training=True), y))\n"
   ]
  },
  {
   "cell_type": "code",
   "execution_count": null,
   "id": "442a9c84-c1a1-4433-a83a-145ace90ff85",
   "metadata": {},
   "outputs": [],
   "source": [
    "for images, labels in train_ds.take(1):\n",
    "    # Apply data augmentation\n",
    "    augmented_images = data_augmentation(images, training=True)\n",
    "    \n",
    "    # Plot the augmented images\n",
    "    plt.figure(figsize=(10, 10))\n",
    "    for i in range(min(9, len(augmented_images))):  # Show up to 9 images\n",
    "        ax = plt.subplot(3, 3, i + 1)\n",
    "        plt.imshow(augmented_images[i].numpy().astype(\"uint8\"))\n",
    "        plt.title(\"Augmented Image\")\n",
    "        plt.axis(\"off\")\n",
    "    plt.show()\n",
    "    break  # Stop after taking one batch"
   ]
  },
  {
   "cell_type": "code",
   "execution_count": 8,
   "id": "8ecacf1c-4920-4f56-be77-3961a46100ec",
   "metadata": {},
   "outputs": [],
   "source": [
    "l2_lambda = 0.0005\n",
    "\n",
    "model = Sequential([\n",
    "    Conv2D(32, kernel_size=(3, 3), padding='same', activation='relu',\n",
    "           input_shape=(256, 256, 3), kernel_regularizer=l2(l2_lambda)),\n",
    "    BatchNormalization(),\n",
    "    MaxPooling2D(pool_size=(2, 2), strides=2, padding='valid'),\n",
    "\n",
    "    Conv2D(64, kernel_size=(3, 3), padding='same', activation='relu',\n",
    "           kernel_regularizer=l2(l2_lambda)),\n",
    "    BatchNormalization(),\n",
    "    MaxPooling2D(pool_size=(2, 2), strides=2, padding='valid'),\n",
    "\n",
    "    Conv2D(128, kernel_size=(3, 3), padding='same', activation='relu',\n",
    "           kernel_regularizer=l2(l2_lambda)),\n",
    "    BatchNormalization(),\n",
    "    MaxPooling2D(pool_size=(2, 2), strides=2, padding='valid'),\n",
    "\n",
    "    Flatten(),\n",
    "    Dense(128, activation='relu', kernel_regularizer=l2(l2_lambda)),\n",
    "    Dropout(0.3),\n",
    "    Dense(64, activation='relu', kernel_regularizer=l2(l2_lambda)),\n",
    "    Dropout(0.3),\n",
    "    Dense(1, activation='sigmoid')\n",
    "])\n",
    "optimizer = Adam(learning_rate=0.001)\n",
    "model.compile(optimizer=optimizer,\n",
    "              loss='binary_crossentropy',\n",
    "              metrics=['accuracy', Precision(), Recall()])\n",
    "def lr_scheduler(epoch, lr):\n",
    "    if epoch > 10:\n",
    "        return lr * 0.5\n",
    "    return lr\n",
    "\n",
    "lr_scheduler_callback = LearningRateScheduler(lr_scheduler)\n",
    "early_stopping = EarlyStopping(monitor='val_loss', patience=15, restore_best_weights=True)\n",
    "\n"
   ]
  },
  {
   "cell_type": "code",
   "execution_count": 9,
   "id": "c0d16f5e-16c6-4894-9714-88214a08a5d0",
   "metadata": {},
   "outputs": [
    {
     "name": "stdout",
     "output_type": "stream",
     "text": [
      "Epoch 1/100\n",
      "805/805 [==============================] - 162s 189ms/step - loss: 1.6690 - accuracy: 0.8317 - precision: 0.8850 - recall: 0.7651 - val_loss: 0.7623 - val_accuracy: 0.9169 - val_precision: 0.8754 - val_recall: 0.9731 - lr: 0.0010\n",
      "Epoch 2/100\n",
      "805/805 [==============================] - 158s 196ms/step - loss: 0.7561 - accuracy: 0.8607 - precision: 0.8137 - recall: 0.9380 - val_loss: 0.4936 - val_accuracy: 0.9493 - val_precision: 0.9357 - val_recall: 0.9654 - lr: 0.0010\n",
      "Epoch 3/100\n",
      "805/805 [==============================] - 143s 178ms/step - loss: 0.4837 - accuracy: 0.9207 - precision: 0.8946 - recall: 0.9549 - val_loss: 0.5120 - val_accuracy: 0.9120 - val_precision: 0.8617 - val_recall: 0.9827 - lr: 0.0010\n",
      "Epoch 4/100\n",
      "805/805 [==============================] - 147s 182ms/step - loss: 0.3955 - accuracy: 0.9294 - precision: 0.9105 - recall: 0.9535 - val_loss: 0.4346 - val_accuracy: 0.9246 - val_precision: 0.8791 - val_recall: 0.9856 - lr: 0.0010\n",
      "Epoch 5/100\n",
      "805/805 [==============================] - 154s 191ms/step - loss: 0.3988 - accuracy: 0.9346 - precision: 0.9308 - recall: 0.9399 - val_loss: 0.4304 - val_accuracy: 0.9222 - val_precision: 0.9711 - val_recall: 0.8712 - lr: 0.0010\n",
      "Epoch 6/100\n",
      "805/805 [==============================] - 158s 196ms/step - loss: 0.3735 - accuracy: 0.9431 - precision: 0.9405 - recall: 0.9469 - val_loss: 0.2694 - val_accuracy: 0.9584 - val_precision: 0.9587 - val_recall: 0.9587 - lr: 0.0010\n",
      "Epoch 7/100\n",
      "805/805 [==============================] - 157s 195ms/step - loss: 0.3303 - accuracy: 0.9469 - precision: 0.9458 - recall: 0.9489 - val_loss: 0.3118 - val_accuracy: 0.9439 - val_precision: 0.9155 - val_recall: 0.9788 - lr: 0.0010\n",
      "Epoch 8/100\n",
      "805/805 [==============================] - 165s 204ms/step - loss: 0.3391 - accuracy: 0.9494 - precision: 0.9487 - recall: 0.9509 - val_loss: 0.2429 - val_accuracy: 0.9536 - val_precision: 0.9370 - val_recall: 0.9731 - lr: 0.0010\n",
      "Epoch 9/100\n",
      "805/805 [==============================] - 161s 200ms/step - loss: 0.2821 - accuracy: 0.9531 - precision: 0.9531 - recall: 0.9536 - val_loss: 0.2164 - val_accuracy: 0.9555 - val_precision: 0.9620 - val_recall: 0.9490 - lr: 0.0010\n",
      "Epoch 10/100\n",
      "805/805 [==============================] - 160s 199ms/step - loss: 0.2514 - accuracy: 0.9556 - precision: 0.9524 - recall: 0.9597 - val_loss: 0.3201 - val_accuracy: 0.9468 - val_precision: 0.9338 - val_recall: 0.9625 - lr: 0.0010\n",
      "Epoch 11/100\n",
      "805/805 [==============================] - 161s 200ms/step - loss: 0.2773 - accuracy: 0.9544 - precision: 0.9528 - recall: 0.9568 - val_loss: 0.3920 - val_accuracy: 0.9058 - val_precision: 0.9548 - val_recall: 0.8529 - lr: 0.0010\n",
      "Epoch 12/100\n",
      "805/805 [==============================] - 164s 204ms/step - loss: 0.2019 - accuracy: 0.9627 - precision: 0.9619 - recall: 0.9640 - val_loss: 0.2120 - val_accuracy: 0.9594 - val_precision: 0.9605 - val_recall: 0.9587 - lr: 5.0000e-04\n",
      "Epoch 13/100\n",
      "805/805 [==============================] - 165s 205ms/step - loss: 0.1545 - accuracy: 0.9705 - precision: 0.9687 - recall: 0.9728 - val_loss: 0.1526 - val_accuracy: 0.9657 - val_precision: 0.9524 - val_recall: 0.9808 - lr: 2.5000e-04\n",
      "Epoch 14/100\n",
      "805/805 [==============================] - 165s 205ms/step - loss: 0.1220 - accuracy: 0.9762 - precision: 0.9748 - recall: 0.9780 - val_loss: 0.1258 - val_accuracy: 0.9696 - val_precision: 0.9527 - val_recall: 0.9885 - lr: 1.2500e-04\n",
      "Epoch 15/100\n",
      "805/805 [==============================] - 163s 203ms/step - loss: 0.1058 - accuracy: 0.9780 - precision: 0.9788 - recall: 0.9774 - val_loss: 0.1196 - val_accuracy: 0.9715 - val_precision: 0.9521 - val_recall: 0.9933 - lr: 6.2500e-05\n",
      "Epoch 16/100\n",
      "805/805 [==============================] - 163s 203ms/step - loss: 0.0954 - accuracy: 0.9817 - precision: 0.9819 - recall: 0.9817 - val_loss: 0.1114 - val_accuracy: 0.9744 - val_precision: 0.9574 - val_recall: 0.9933 - lr: 3.1250e-05\n",
      "Epoch 17/100\n",
      "805/805 [==============================] - 164s 203ms/step - loss: 0.0906 - accuracy: 0.9824 - precision: 0.9826 - recall: 0.9825 - val_loss: 0.1143 - val_accuracy: 0.9734 - val_precision: 0.9539 - val_recall: 0.9952 - lr: 1.5625e-05\n",
      "Epoch 18/100\n",
      "805/805 [==============================] - 164s 203ms/step - loss: 0.0878 - accuracy: 0.9830 - precision: 0.9821 - recall: 0.9842 - val_loss: 0.1131 - val_accuracy: 0.9739 - val_precision: 0.9548 - val_recall: 0.9952 - lr: 7.8125e-06\n",
      "Epoch 19/100\n",
      "805/805 [==============================] - 165s 204ms/step - loss: 0.0863 - accuracy: 0.9828 - precision: 0.9826 - recall: 0.9832 - val_loss: 0.1111 - val_accuracy: 0.9744 - val_precision: 0.9557 - val_recall: 0.9952 - lr: 3.9063e-06\n",
      "Epoch 20/100\n",
      "805/805 [==============================] - 166s 206ms/step - loss: 0.0866 - accuracy: 0.9830 - precision: 0.9823 - recall: 0.9839 - val_loss: 0.1090 - val_accuracy: 0.9739 - val_precision: 0.9565 - val_recall: 0.9933 - lr: 1.9531e-06\n",
      "Epoch 21/100\n",
      "805/805 [==============================] - 162s 201ms/step - loss: 0.0837 - accuracy: 0.9841 - precision: 0.9846 - recall: 0.9838 - val_loss: 0.1104 - val_accuracy: 0.9739 - val_precision: 0.9556 - val_recall: 0.9942 - lr: 9.7656e-07\n",
      "Epoch 22/100\n",
      "805/805 [==============================] - 154s 191ms/step - loss: 0.0865 - accuracy: 0.9829 - precision: 0.9836 - recall: 0.9824 - val_loss: 0.1094 - val_accuracy: 0.9739 - val_precision: 0.9565 - val_recall: 0.9933 - lr: 4.8828e-07\n",
      "Epoch 23/100\n",
      "805/805 [==============================] - 158s 196ms/step - loss: 0.0852 - accuracy: 0.9833 - precision: 0.9836 - recall: 0.9833 - val_loss: 0.1084 - val_accuracy: 0.9744 - val_precision: 0.9574 - val_recall: 0.9933 - lr: 2.4414e-07\n",
      "Epoch 24/100\n",
      "805/805 [==============================] - 163s 202ms/step - loss: 0.0855 - accuracy: 0.9834 - precision: 0.9834 - recall: 0.9836 - val_loss: 0.1091 - val_accuracy: 0.9739 - val_precision: 0.9565 - val_recall: 0.9933 - lr: 1.2207e-07\n",
      "Epoch 25/100\n",
      "805/805 [==============================] - 163s 203ms/step - loss: 0.0850 - accuracy: 0.9838 - precision: 0.9829 - recall: 0.9850 - val_loss: 0.1088 - val_accuracy: 0.9744 - val_precision: 0.9574 - val_recall: 0.9933 - lr: 6.1035e-08\n",
      "Epoch 26/100\n",
      "805/805 [==============================] - 164s 204ms/step - loss: 0.0865 - accuracy: 0.9836 - precision: 0.9845 - recall: 0.9829 - val_loss: 0.1085 - val_accuracy: 0.9744 - val_precision: 0.9574 - val_recall: 0.9933 - lr: 3.0518e-08\n",
      "Epoch 27/100\n",
      "805/805 [==============================] - 163s 202ms/step - loss: 0.0851 - accuracy: 0.9839 - precision: 0.9828 - recall: 0.9853 - val_loss: 0.1080 - val_accuracy: 0.9744 - val_precision: 0.9574 - val_recall: 0.9933 - lr: 1.5259e-08\n",
      "Epoch 28/100\n",
      "805/805 [==============================] - 163s 202ms/step - loss: 0.0846 - accuracy: 0.9845 - precision: 0.9840 - recall: 0.9852 - val_loss: 0.1087 - val_accuracy: 0.9744 - val_precision: 0.9574 - val_recall: 0.9933 - lr: 7.6294e-09\n",
      "Epoch 29/100\n",
      "805/805 [==============================] - 165s 205ms/step - loss: 0.0858 - accuracy: 0.9835 - precision: 0.9833 - recall: 0.9839 - val_loss: 0.1082 - val_accuracy: 0.9744 - val_precision: 0.9574 - val_recall: 0.9933 - lr: 3.8147e-09\n",
      "Epoch 30/100\n",
      "805/805 [==============================] - 163s 202ms/step - loss: 0.0864 - accuracy: 0.9830 - precision: 0.9825 - recall: 0.9838 - val_loss: 0.1090 - val_accuracy: 0.9744 - val_precision: 0.9574 - val_recall: 0.9933 - lr: 1.9073e-09\n",
      "Epoch 31/100\n",
      "805/805 [==============================] - 163s 202ms/step - loss: 0.0839 - accuracy: 0.9836 - precision: 0.9825 - recall: 0.9850 - val_loss: 0.1097 - val_accuracy: 0.9744 - val_precision: 0.9565 - val_recall: 0.9942 - lr: 9.5367e-10\n",
      "Epoch 32/100\n",
      "805/805 [==============================] - 163s 202ms/step - loss: 0.0870 - accuracy: 0.9831 - precision: 0.9819 - recall: 0.9846 - val_loss: 0.1090 - val_accuracy: 0.9739 - val_precision: 0.9565 - val_recall: 0.9933 - lr: 4.7684e-10\n",
      "Epoch 33/100\n",
      "805/805 [==============================] - 163s 203ms/step - loss: 0.0859 - accuracy: 0.9829 - precision: 0.9815 - recall: 0.9846 - val_loss: 0.1086 - val_accuracy: 0.9744 - val_precision: 0.9574 - val_recall: 0.9933 - lr: 2.3842e-10\n",
      "Epoch 34/100\n",
      "805/805 [==============================] - 162s 202ms/step - loss: 0.0869 - accuracy: 0.9827 - precision: 0.9823 - recall: 0.9833 - val_loss: 0.1084 - val_accuracy: 0.9744 - val_precision: 0.9574 - val_recall: 0.9933 - lr: 1.1921e-10\n",
      "Epoch 35/100\n",
      "805/805 [==============================] - 163s 202ms/step - loss: 0.0868 - accuracy: 0.9827 - precision: 0.9828 - recall: 0.9828 - val_loss: 0.1095 - val_accuracy: 0.9734 - val_precision: 0.9556 - val_recall: 0.9933 - lr: 5.9605e-11\n",
      "Epoch 36/100\n",
      "805/805 [==============================] - 163s 202ms/step - loss: 0.0845 - accuracy: 0.9827 - precision: 0.9826 - recall: 0.9830 - val_loss: 0.1077 - val_accuracy: 0.9749 - val_precision: 0.9583 - val_recall: 0.9933 - lr: 2.9802e-11\n",
      "Epoch 37/100\n",
      "805/805 [==============================] - 163s 202ms/step - loss: 0.0860 - accuracy: 0.9834 - precision: 0.9832 - recall: 0.9839 - val_loss: 0.1091 - val_accuracy: 0.9744 - val_precision: 0.9574 - val_recall: 0.9933 - lr: 1.4901e-11\n",
      "Epoch 38/100\n",
      "805/805 [==============================] - 163s 202ms/step - loss: 0.0869 - accuracy: 0.9831 - precision: 0.9832 - recall: 0.9833 - val_loss: 0.1086 - val_accuracy: 0.9744 - val_precision: 0.9574 - val_recall: 0.9933 - lr: 7.4506e-12\n",
      "Epoch 39/100\n",
      "805/805 [==============================] - 163s 202ms/step - loss: 0.0851 - accuracy: 0.9833 - precision: 0.9836 - recall: 0.9833 - val_loss: 0.1082 - val_accuracy: 0.9744 - val_precision: 0.9574 - val_recall: 0.9933 - lr: 3.7253e-12\n",
      "Epoch 40/100\n",
      "805/805 [==============================] - 162s 201ms/step - loss: 0.0864 - accuracy: 0.9834 - precision: 0.9833 - recall: 0.9837 - val_loss: 0.1085 - val_accuracy: 0.9744 - val_precision: 0.9574 - val_recall: 0.9933 - lr: 1.8626e-12\n",
      "Epoch 41/100\n",
      "805/805 [==============================] - 163s 202ms/step - loss: 0.0845 - accuracy: 0.9839 - precision: 0.9827 - recall: 0.9853 - val_loss: 0.1092 - val_accuracy: 0.9739 - val_precision: 0.9565 - val_recall: 0.9933 - lr: 9.3132e-13\n",
      "Epoch 42/100\n",
      "805/805 [==============================] - 163s 202ms/step - loss: 0.0843 - accuracy: 0.9836 - precision: 0.9833 - recall: 0.9841 - val_loss: 0.1090 - val_accuracy: 0.9744 - val_precision: 0.9574 - val_recall: 0.9933 - lr: 4.6566e-13\n",
      "Epoch 43/100\n",
      "805/805 [==============================] - 163s 203ms/step - loss: 0.0844 - accuracy: 0.9829 - precision: 0.9828 - recall: 0.9832 - val_loss: 0.1094 - val_accuracy: 0.9739 - val_precision: 0.9565 - val_recall: 0.9933 - lr: 2.3283e-13\n",
      "Epoch 44/100\n",
      "805/805 [==============================] - 163s 202ms/step - loss: 0.0855 - accuracy: 0.9840 - precision: 0.9834 - recall: 0.9849 - val_loss: 0.1083 - val_accuracy: 0.9744 - val_precision: 0.9574 - val_recall: 0.9933 - lr: 1.1642e-13\n",
      "Epoch 45/100\n",
      "805/805 [==============================] - 163s 202ms/step - loss: 0.0865 - accuracy: 0.9833 - precision: 0.9830 - recall: 0.9838 - val_loss: 0.1082 - val_accuracy: 0.9744 - val_precision: 0.9574 - val_recall: 0.9933 - lr: 5.8208e-14\n",
      "Epoch 46/100\n",
      "805/805 [==============================] - 163s 203ms/step - loss: 0.0855 - accuracy: 0.9849 - precision: 0.9849 - recall: 0.9850 - val_loss: 0.1098 - val_accuracy: 0.9739 - val_precision: 0.9556 - val_recall: 0.9942 - lr: 2.9104e-14\n",
      "Epoch 47/100\n",
      "805/805 [==============================] - 163s 202ms/step - loss: 0.0835 - accuracy: 0.9836 - precision: 0.9837 - recall: 0.9836 - val_loss: 0.1098 - val_accuracy: 0.9744 - val_precision: 0.9565 - val_recall: 0.9942 - lr: 1.4552e-14\n",
      "Epoch 48/100\n",
      "805/805 [==============================] - 163s 203ms/step - loss: 0.0846 - accuracy: 0.9835 - precision: 0.9828 - recall: 0.9844 - val_loss: 0.1093 - val_accuracy: 0.9744 - val_precision: 0.9565 - val_recall: 0.9942 - lr: 7.2760e-15\n",
      "Epoch 49/100\n",
      "805/805 [==============================] - 164s 203ms/step - loss: 0.0862 - accuracy: 0.9829 - precision: 0.9832 - recall: 0.9827 - val_loss: 0.1099 - val_accuracy: 0.9739 - val_precision: 0.9556 - val_recall: 0.9942 - lr: 3.6380e-15\n",
      "Epoch 50/100\n",
      "805/805 [==============================] - 165s 204ms/step - loss: 0.0850 - accuracy: 0.9834 - precision: 0.9823 - recall: 0.9847 - val_loss: 0.1095 - val_accuracy: 0.9744 - val_precision: 0.9565 - val_recall: 0.9942 - lr: 1.8190e-15\n",
      "Epoch 51/100\n",
      "805/805 [==============================] - 164s 203ms/step - loss: 0.0851 - accuracy: 0.9835 - precision: 0.9835 - recall: 0.9838 - val_loss: 0.1082 - val_accuracy: 0.9744 - val_precision: 0.9574 - val_recall: 0.9933 - lr: 9.0949e-16\n"
     ]
    }
   ],
   "source": [
    "start_time = time.time()\n",
    "history = model.fit(\n",
    "    train_ds,\n",
    "    validation_data=validation_ds,\n",
    "    epochs=100,\n",
    "    batch_size=32,\n",
    "    class_weight=class_weights,\n",
    "    callbacks=[early_stopping, lr_scheduler_callback]\n",
    ")\n",
    "training_duration = time.time() - start_time"
   ]
  },
  {
   "cell_type": "code",
   "execution_count": 10,
   "id": "51ed00d2-af41-442d-995f-cab709301c2d",
   "metadata": {},
   "outputs": [],
   "source": [
    "model.save('new_model.h5')"
   ]
  },
  {
   "cell_type": "code",
   "execution_count": null,
   "id": "cc71f3fe-104b-4567-8d62-8bd661aa41d7",
   "metadata": {},
   "outputs": [],
   "source": []
  }
 ],
 "metadata": {
  "kernelspec": {
   "display_name": "Python 3 (ipykernel)",
   "language": "python",
   "name": "python3"
  },
  "language_info": {
   "codemirror_mode": {
    "name": "ipython",
    "version": 3
   },
   "file_extension": ".py",
   "mimetype": "text/x-python",
   "name": "python",
   "nbconvert_exporter": "python",
   "pygments_lexer": "ipython3",
   "version": "3.12.7"
  }
 },
 "nbformat": 4,
 "nbformat_minor": 5
}
