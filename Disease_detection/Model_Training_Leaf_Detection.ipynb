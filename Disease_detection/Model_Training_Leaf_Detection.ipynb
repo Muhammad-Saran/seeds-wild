{
 "cells": [
  {
   "cell_type": "markdown",
   "id": "8ba1ac0d-7479-4840-97ed-10c53d58f62f",
   "metadata": {},
   "source": [
    "## TO EXTRACT FILE"
   ]
  },
  {
   "cell_type": "code",
   "execution_count": null,
   "id": "b09d7027-071d-4646-82e7-e589384ca2d0",
   "metadata": {},
   "outputs": [],
   "source": [
    "pip install rarfile\n"
   ]
  },
  {
   "cell_type": "code",
   "execution_count": null,
   "id": "b231397c-057c-4734-9b9b-7cb9a9c7af7e",
   "metadata": {},
   "outputs": [],
   "source": [
    "import rarfile\n",
    "import os\n",
    "rar_file_path = '/content/Plant detection.rar'\n",
    "destination_folder = '/content/test'\n",
    "with rarfile.RarFile(rar_file_path, 'r') as rar_ref:\n",
    "    rar_ref.extractall(destination_folder)\n",
    "print(\"Extracted files:\", os.listdir(destination_folder))"
   ]
  },
  {
   "cell_type": "markdown",
   "id": "22319340-9dbf-4bf8-9a52-cefc93416023",
   "metadata": {},
   "source": [
    "## LIBRARIES "
   ]
  },
  {
   "cell_type": "code",
   "execution_count": null,
   "id": "badc2cf3-8d05-4611-848c-2f0cc87287e3",
   "metadata": {},
   "outputs": [],
   "source": [
    "import tensorflow as tf\n",
    "from tensorflow.keras.metrics import Precision, Recall\n",
    "from tensorflow import keras\n",
    "from tensorflow.keras.models import Sequential\n",
    "from keras import Sequential\n",
    "from tensorflow.keras.callbacks import EarlyStopping\n",
    "from keras.models import Model\n",
    "from keras.layers import Input, Conv2D, BatchNormalization, Activation,Flatten, Add, MaxPooling2D, GlobalAveragePooling2D, Dense, Dropout\n",
    "from keras.regularizers import l2\n",
    "from tensorflow.keras.optimizers import Adam"
   ]
  },
  {
   "cell_type": "markdown",
   "id": "bdf71c19-433c-48b0-8fec-c7ca97da8873",
   "metadata": {},
   "source": [
    "## Setting path of train and valid data"
   ]
  },
  {
   "cell_type": "code",
   "execution_count": null,
   "id": "056d663f-760f-44f5-9bc0-cb4d9c08e84d",
   "metadata": {},
   "outputs": [],
   "source": [
    "train_ds = keras.utils.image_dataset_from_directory(\n",
    "    directory=r'/content/test/Plant detection/Train',\n",
    "    labels='inferred',\n",
    "    label_mode='binary',\n",
    "    batch_size=32,\n",
    "    image_size=(256, 256)\n",
    ")"
   ]
  },
  {
   "cell_type": "code",
   "execution_count": null,
   "id": "da335f1c-378a-4b35-9ad1-9765ef13653b",
   "metadata": {},
   "outputs": [],
   "source": [
    "validation_ds =keras.utils.image_dataset_from_directory(\n",
    "    directory =r'/content/test/Plant detection/Test',\n",
    "    labels = 'inferred',\n",
    "    label_mode = 'binary',\n",
    "    batch_size=32,\n",
    "    image_size=(256,256)\n",
    ")"
   ]
  },
  {
   "cell_type": "markdown",
   "id": "ed8c416f-5b03-4d34-a349-65fe312ec607",
   "metadata": {},
   "source": [
    "## MODEL STUCTURE"
   ]
  },
  {
   "cell_type": "code",
   "execution_count": null,
   "id": "5628e2e0-6acf-4bd6-a0b0-4bcb2118b9ad",
   "metadata": {},
   "outputs": [],
   "source": [
    "l2_lambda = 0.001\n",
    "\n",
    "model = Sequential()\n",
    "\n",
    "model.add(Conv2D(32, kernel_size=(3,3), padding='same', activation='relu',\n",
    "                 input_shape=(256, 256, 3), kernel_regularizer=l2(l2_lambda)))\n",
    "model.add(BatchNormalization())\n",
    "model.add(MaxPooling2D(pool_size=(2,2), strides=2, padding='valid'))\n",
    "\n",
    "model.add(Conv2D(64, kernel_size=(3,3), padding='same', activation='relu',\n",
    "                 kernel_regularizer=l2(l2_lambda)))\n",
    "model.add(BatchNormalization())\n",
    "model.add(MaxPooling2D(pool_size=(2,2), strides=2, padding='valid'))\n",
    "\n",
    "model.add(Conv2D(128, kernel_size=(3,3), padding='same', activation='relu',\n",
    "                 kernel_regularizer=l2(l2_lambda)))\n",
    "model.add(BatchNormalization())\n",
    "model.add(MaxPooling2D(pool_size=(2,2), strides=2, padding='valid'))\n",
    "\n",
    "model.add(Flatten())\n",
    "model.add(Dense(128, activation='relu', kernel_regularizer=l2(l2_lambda)))\n",
    "model.add(Dropout(0.2))\n",
    "model.add(Dense(64, activation='relu', kernel_regularizer=l2(l2_lambda)))\n",
    "model.add(Dropout(0.2))\n",
    "model.add(Dense(1, activation='sigmoid'))\n",
    "\n",
    "optimizer = Adam(learning_rate=0.001)"
   ]
  },
  {
   "cell_type": "code",
   "execution_count": null,
   "id": "15d84d6e-3d7e-4a1c-91ba-b54ac73b7bba",
   "metadata": {},
   "outputs": [],
   "source": [
    "model.summary()\n"
   ]
  },
  {
   "cell_type": "code",
   "execution_count": null,
   "id": "70e92d63-89ec-4a5b-a33c-46e21fbfad13",
   "metadata": {},
   "outputs": [],
   "source": [
    "model.compile(optimizer='adam',\n",
    "              loss='binary_crossentropy',\n",
    "              metrics=['accuracy', Precision(), Recall()])"
   ]
  },
  {
   "cell_type": "markdown",
   "id": "027630d6-306d-406c-9895-e254c6235fba",
   "metadata": {},
   "source": [
    "## Early Srtopping"
   ]
  },
  {
   "cell_type": "code",
   "execution_count": null,
   "id": "5fba9b81-6358-4078-98ff-54ba8c43a317",
   "metadata": {},
   "outputs": [],
   "source": [
    "early_stopping = EarlyStopping(monitor='val_loss', patience=10, restore_best_weights=True)"
   ]
  },
  {
   "cell_type": "markdown",
   "id": "9af830b7-f299-4f14-af2b-6c03e085d9de",
   "metadata": {},
   "source": [
    "## TRAIN MODEL"
   ]
  },
  {
   "cell_type": "code",
   "execution_count": null,
   "id": "f9de94f4-8d8c-404e-9c69-28a2b5f470ff",
   "metadata": {},
   "outputs": [],
   "source": [
    "\n",
    "import time\n",
    "start_time = time.time()\n",
    "history = model.fit(train_ds,\n",
    "                    validation_data=validation_ds,\n",
    "                    epochs=100,\n",
    "                    batch_size=32,\n",
    "                    callbacks=[early_stopping])\n",
    "end_time = time.time()\n",
    "training_time = end_time - start_time\n",
    "print(training_time)\n"
   ]
  },
  {
   "cell_type": "markdown",
   "id": "66b26445-32d9-4c87-a7bb-e06637229f64",
   "metadata": {},
   "source": [
    "## Save MDOEL"
   ]
  },
  {
   "cell_type": "code",
   "execution_count": null,
   "id": "49116c88-7499-46fc-b11f-19198d4957c5",
   "metadata": {},
   "outputs": [],
   "source": [
    "import joblib\n",
    "joblib.dump(model, 'Plant_detection.pkl')"
   ]
  }
 ],
 "metadata": {
  "kernelspec": {
   "display_name": "Python 3 (ipykernel)",
   "language": "python",
   "name": "python3"
  },
  "language_info": {
   "codemirror_mode": {
    "name": "ipython",
    "version": 3
   },
   "file_extension": ".py",
   "mimetype": "text/x-python",
   "name": "python",
   "nbconvert_exporter": "python",
   "pygments_lexer": "ipython3",
   "version": "3.12.7"
  }
 },
 "nbformat": 4,
 "nbformat_minor": 5
}
